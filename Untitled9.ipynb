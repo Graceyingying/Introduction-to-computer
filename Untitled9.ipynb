{
  "nbformat": 4,
  "nbformat_minor": 0,
  "metadata": {
    "colab": {
      "provenance": [],
      "authorship_tag": "ABX9TyOJ0aQffAutqMuq9viUxgLK",
      "include_colab_link": true
    },
    "kernelspec": {
      "name": "python3",
      "display_name": "Python 3"
    },
    "language_info": {
      "name": "python"
    }
  },
  "cells": [
    {
      "cell_type": "markdown",
      "metadata": {
        "id": "view-in-github",
        "colab_type": "text"
      },
      "source": [
        "<a href=\"https://colab.research.google.com/github/Graceyingying/Introduction-to-computer/blob/main/Untitled9.ipynb\" target=\"_parent\"><img src=\"https://colab.research.google.com/assets/colab-badge.svg\" alt=\"Open In Colab\"/></a>"
      ]
    },
    {
      "cell_type": "code",
      "source": [
        "password=int(input(\"請輸入密碼\"))\n",
        "if password==1234:\n",
        "  print(\"歡迎光臨\")"
      ],
      "metadata": {
        "colab": {
          "base_uri": "https://localhost:8080/"
        },
        "id": "hLB8THR1UEc9",
        "outputId": "35cef12a-bba3-45be-d43e-22ac1c9eec97"
      },
      "execution_count": null,
      "outputs": [
        {
          "name": "stdout",
          "output_type": "stream",
          "text": [
            "請輸入密碼45\n"
          ]
        }
      ]
    },
    {
      "cell_type": "code",
      "source": [
        "password=int(input(\"請輸入密碼\"))\n",
        "if password==1234:\n",
        "  print(\"密碼正確\")\n",
        "else:\n",
        "  print(\"密碼錯誤\")"
      ],
      "metadata": {
        "colab": {
          "base_uri": "https://localhost:8080/"
        },
        "id": "lmZiTqX4UkHx",
        "outputId": "3d7b2607-682f-4e18-cd96-2d69a87d494b"
      },
      "execution_count": null,
      "outputs": [
        {
          "output_type": "stream",
          "name": "stdout",
          "text": [
            "請輸入密碼11\n",
            "密碼錯誤\n"
          ]
        }
      ]
    },
    {
      "cell_type": "code",
      "execution_count": null,
      "metadata": {
        "colab": {
          "base_uri": "https://localhost:8080/"
        },
        "id": "4KbzVMojSWu6",
        "outputId": "9ee67557-6fba-467f-9a23-ef80ef0b0939"
      },
      "outputs": [
        {
          "output_type": "stream",
          "name": "stdout",
          "text": [
            "今天會下雨嗎?(輸入Y或y)Y\n",
            "不用帶傘\n"
          ]
        }
      ],
      "source": [
        "rain=input('今天會下雨嗎?(輸入Y或y)')\n",
        "if(rain==\"Y\"or rain==\"y\"):\n",
        "  if(rain==\"Y\"):\n",
        "    print(\"不用帶傘\")\n",
        "  else:\n",
        "    print(\"出門記得帶傘\")\n",
        "else:\n",
        "  print(\"輸入錯誤\")\n"
      ]
    },
    {
      "cell_type": "code",
      "source": [
        "number=int(input('請輸入數字'))\n",
        "if(number%2==0):\n",
        "  print(number,\"為偶數\")\n",
        "else:\n",
        "  print(number,\"為奇數\")"
      ],
      "metadata": {
        "id": "2rNgWtmcVOUM",
        "colab": {
          "base_uri": "https://localhost:8080/"
        },
        "outputId": "0ca8ed4c-3074-4f0b-e619-619984aae4d4"
      },
      "execution_count": 9,
      "outputs": [
        {
          "output_type": "stream",
          "name": "stdout",
          "text": [
            "請輸入數字-2\n",
            "-2 為偶數\n"
          ]
        }
      ]
    }
  ]
}