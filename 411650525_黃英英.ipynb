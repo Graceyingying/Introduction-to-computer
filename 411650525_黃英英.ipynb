{
  "nbformat": 4,
  "nbformat_minor": 0,
  "metadata": {
    "colab": {
      "provenance": [],
      "authorship_tag": "ABX9TyO0Nsl4Sl3Fl67kVsE84h8E",
      "include_colab_link": true
    },
    "kernelspec": {
      "name": "python3",
      "display_name": "Python 3"
    },
    "language_info": {
      "name": "python"
    }
  },
  "cells": [
    {
      "cell_type": "markdown",
      "metadata": {
        "id": "view-in-github",
        "colab_type": "text"
      },
      "source": [
        "<a href=\"https://colab.research.google.com/github/Graceyingying/Introduction-to-computer/blob/main/411650525_%E9%BB%83%E8%8B%B1%E8%8B%B1.ipynb\" target=\"_parent\"><img src=\"https://colab.research.google.com/assets/colab-badge.svg\" alt=\"Open In Colab\"/></a>"
      ]
    },
    {
      "cell_type": "code",
      "execution_count": 4,
      "metadata": {
        "colab": {
          "base_uri": "https://localhost:8080/"
        },
        "id": "r208aDTQ19jX",
        "outputId": "d81ebfc8-e8ea-4377-aa31-26cd3fa286ce"
      },
      "outputs": [
        {
          "output_type": "stream",
          "name": "stdout",
          "text": [
            "請輸入您的身高(cm):180\n",
            "請輸入您的體重(kg):80\n",
            "身高 180.0 公分， 體重 80.0 公斤， BMI值為 24.691358024691358\n"
          ]
        }
      ],
      "source": [
        "身高=float(input(\"請輸入您的身高(cm):\"))\n",
        "體重=float(input(\"請輸入您的體重(kg):\"))\n",
        "print(\"身高\",身高,\"公分，\",\"體重\",體重,\"公斤，\",\"BMI值為\",體重/(身高/100)**2)\n"
      ]
    }
  ]
}