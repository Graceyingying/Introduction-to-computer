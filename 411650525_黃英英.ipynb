{
  "nbformat": 4,
  "nbformat_minor": 0,
  "metadata": {
    "colab": {
      "provenance": [],
      "authorship_tag": "ABX9TyMFUg62I1yzKr0nO8oTlOHB",
      "include_colab_link": true
    },
    "kernelspec": {
      "name": "python3",
      "display_name": "Python 3"
    },
    "language_info": {
      "name": "python"
    }
  },
  "cells": [
    {
      "cell_type": "markdown",
      "metadata": {
        "id": "view-in-github",
        "colab_type": "text"
      },
      "source": [
        "<a href=\"https://colab.research.google.com/github/Graceyingying/Introduction-to-computer/blob/main/411650525_%E9%BB%83%E8%8B%B1%E8%8B%B1.ipynb\" target=\"_parent\"><img src=\"https://colab.research.google.com/assets/colab-badge.svg\" alt=\"Open In Colab\"/></a>"
      ]
    },
    {
      "cell_type": "code",
      "execution_count": 2,
      "metadata": {
        "id": "qHreI0T-iIPm"
      },
      "outputs": [],
      "source": [
        "list1=range(0,9,1)"
      ]
    },
    {
      "cell_type": "code",
      "source": [
        "list(list1)"
      ],
      "metadata": {
        "colab": {
          "base_uri": "https://localhost:8080/"
        },
        "id": "Jc1Jqq6mjEqJ",
        "outputId": "89ee1a09-90d9-4dc1-8b11-4bacf095d1ba"
      },
      "execution_count": 3,
      "outputs": [
        {
          "output_type": "execute_result",
          "data": {
            "text/plain": [
              "[0, 1, 2, 3, 4, 5, 6, 7, 8]"
            ]
          },
          "metadata": {},
          "execution_count": 3
        }
      ]
    },
    {
      "cell_type": "code",
      "source": [
        "list2=range(1,10,1)"
      ],
      "metadata": {
        "id": "T-w-L5bIjVhZ"
      },
      "execution_count": 6,
      "outputs": []
    },
    {
      "cell_type": "code",
      "source": [
        "list(list2)"
      ],
      "metadata": {
        "colab": {
          "base_uri": "https://localhost:8080/"
        },
        "id": "Jmw_R-yOjeHU",
        "outputId": "27e0a1d3-1415-49ea-e29e-91a1f2f3186c"
      },
      "execution_count": 5,
      "outputs": [
        {
          "output_type": "execute_result",
          "data": {
            "text/plain": [
              "[1, 2, 3, 4, 5, 6, 7, 8, 9]"
            ]
          },
          "metadata": {},
          "execution_count": 5
        }
      ]
    },
    {
      "cell_type": "code",
      "source": [
        "list3=range(1,10,2)"
      ],
      "metadata": {
        "id": "3FgJeI7cjijb"
      },
      "execution_count": 9,
      "outputs": []
    },
    {
      "cell_type": "code",
      "source": [
        "list(list3)"
      ],
      "metadata": {
        "colab": {
          "base_uri": "https://localhost:8080/"
        },
        "id": "eM2dze6ijw5-",
        "outputId": "9a151e45-9d76-4f64-e639-56053fe323cd"
      },
      "execution_count": 10,
      "outputs": [
        {
          "output_type": "execute_result",
          "data": {
            "text/plain": [
              "[1, 3, 5, 7, 9]"
            ]
          },
          "metadata": {},
          "execution_count": 10
        }
      ]
    },
    {
      "cell_type": "code",
      "source": [
        "list4=range(10,1,-2)"
      ],
      "metadata": {
        "id": "Xdia04nBj5sw"
      },
      "execution_count": 13,
      "outputs": []
    },
    {
      "cell_type": "code",
      "source": [
        "list(list4)"
      ],
      "metadata": {
        "colab": {
          "base_uri": "https://localhost:8080/"
        },
        "id": "3RRUURxHj6Im",
        "outputId": "e33a40ed-a3b6-4904-d6a5-0f9fe324e20c"
      },
      "execution_count": 14,
      "outputs": [
        {
          "output_type": "execute_result",
          "data": {
            "text/plain": [
              "[10, 8, 6, 4, 2]"
            ]
          },
          "metadata": {},
          "execution_count": 14
        }
      ]
    },
    {
      "cell_type": "code",
      "source": [
        "n=int(input('請輸入一個正整數:'))\n",
        "for i in range(1,n+1):\n",
        "  print(i,end=',')"
      ],
      "metadata": {
        "colab": {
          "base_uri": "https://localhost:8080/"
        },
        "id": "UhY--PRYkUiB",
        "outputId": "fbce6e1c-b27d-448b-8621-85779fea3b69"
      },
      "execution_count": 22,
      "outputs": [
        {
          "output_type": "stream",
          "name": "stdout",
          "text": [
            "請輸入一個正整數:5\n",
            "1,2,3,4,5,"
          ]
        }
      ]
    },
    {
      "cell_type": "code",
      "source": [
        "n=int(input())\n",
        "s=0\n",
        "for i in range(1,n+1):\n",
        "  s=s+i\n",
        "print('1到',n,'的整數和為',s)"
      ],
      "metadata": {
        "colab": {
          "base_uri": "https://localhost:8080/"
        },
        "id": "p005HVJ-mFqc",
        "outputId": "880b7efb-0713-4c7b-8d97-04dfacce0b14"
      },
      "execution_count": 26,
      "outputs": [
        {
          "output_type": "stream",
          "name": "stdout",
          "text": [
            "10\n",
            "1到 10 的整數和為 55\n"
          ]
        }
      ]
    },
    {
      "cell_type": "code",
      "source": [
        "n=int(input('請輸入一個正整數'))\n",
        "s=0\n",
        "for i in range(1,n+1):\n",
        "  s=s+i\n",
        "  print('1到',n,'的整數和為',s)"
      ],
      "metadata": {
        "colab": {
          "base_uri": "https://localhost:8080/"
        },
        "id": "b8MurrzrmNtv",
        "outputId": "d03d6896-6810-421c-d8c7-5292f810c1c2"
      },
      "execution_count": 27,
      "outputs": [
        {
          "output_type": "stream",
          "name": "stdout",
          "text": [
            "請輸入一個正整數10\n",
            "1到 10 的整數和為 1\n",
            "1到 10 的整數和為 3\n",
            "1到 10 的整數和為 6\n",
            "1到 10 的整數和為 10\n",
            "1到 10 的整數和為 15\n",
            "1到 10 的整數和為 21\n",
            "1到 10 的整數和為 28\n",
            "1到 10 的整數和為 36\n",
            "1到 10 的整數和為 45\n",
            "1到 10 的整數和為 55\n"
          ]
        }
      ]
    }
  ]
}