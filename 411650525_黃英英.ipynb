{
  "nbformat": 4,
  "nbformat_minor": 0,
  "metadata": {
    "colab": {
      "provenance": [],
      "authorship_tag": "ABX9TyNgKzncIwHv7sNrhCj94CUu",
      "include_colab_link": true
    },
    "kernelspec": {
      "name": "python3",
      "display_name": "Python 3"
    },
    "language_info": {
      "name": "python"
    }
  },
  "cells": [
    {
      "cell_type": "markdown",
      "metadata": {
        "id": "view-in-github",
        "colab_type": "text"
      },
      "source": [
        "<a href=\"https://colab.research.google.com/github/Graceyingying/Introduction-to-computer/blob/main/411650525_%E9%BB%83%E8%8B%B1%E8%8B%B1.ipynb\" target=\"_parent\"><img src=\"https://colab.research.google.com/assets/colab-badge.svg\" alt=\"Open In Colab\"/></a>"
      ]
    },
    {
      "cell_type": "code",
      "execution_count": 1,
      "metadata": {
        "colab": {
          "base_uri": "https://localhost:8080/"
        },
        "id": "gQsCO5xQeeT8",
        "outputId": "fde12922-22f9-4a3a-f677-87fc13f56003"
      },
      "outputs": [
        {
          "output_type": "stream",
          "name": "stdout",
          "text": [
            "Hello!\n",
            "你好!\n",
            "今天是3/1!\n",
            "411605525_黃英英\n"
          ]
        }
      ],
      "source": [
        "print('Hello!')\n",
        "print('你好!')\n",
        "print('今天是3/1!')\n",
        "print(\"411605525_黃英英\")"
      ]
    }
  ]
}