{
  "nbformat": 4,
  "nbformat_minor": 0,
  "metadata": {
    "colab": {
      "provenance": [],
      "authorship_tag": "ABX9TyO910r0WhWEEr+z02+m5IaM",
      "include_colab_link": true
    },
    "kernelspec": {
      "name": "python3",
      "display_name": "Python 3"
    },
    "language_info": {
      "name": "python"
    }
  },
  "cells": [
    {
      "cell_type": "markdown",
      "metadata": {
        "id": "view-in-github",
        "colab_type": "text"
      },
      "source": [
        "<a href=\"https://colab.research.google.com/github/Graceyingying/Introduction-to-computer/blob/main/411650525_%E9%BB%83%E8%8B%B1%E8%8B%B1.ipynb\" target=\"_parent\"><img src=\"https://colab.research.google.com/assets/colab-badge.svg\" alt=\"Open In Colab\"/></a>"
      ]
    },
    {
      "cell_type": "code",
      "execution_count": null,
      "metadata": {
        "colab": {
          "base_uri": "https://localhost:8080/"
        },
        "id": "g9TzWMBR-myZ",
        "outputId": "53072afd-d1d5-433a-f066-ebbd70d88924"
      },
      "outputs": [
        {
          "output_type": "stream",
          "name": "stdout",
          "text": [
            "what is your name?panda\n",
            "panda\n"
          ]
        }
      ],
      "source": [
        "name=input(\"what is your name?\")\n",
        "print(name)"
      ]
    },
    {
      "cell_type": "code",
      "source": [
        "a=input(\"word\")\n",
        "b=len(a)\n",
        "print(b)"
      ],
      "metadata": {
        "colab": {
          "base_uri": "https://localhost:8080/"
        },
        "id": "wknhb4gRBqFl",
        "outputId": "6fd8ec74-4c7f-438a-d5ce-0e495dcf3298"
      },
      "execution_count": 7,
      "outputs": [
        {
          "output_type": "stream",
          "name": "stdout",
          "text": [
            "wordgood to drink ?\n",
            "15\n"
          ]
        }
      ]
    },
    {
      "cell_type": "code",
      "source": [
        "h,w=input().split()\n",
        "new_h=int(h)/100\n",
        "new_w=int(w)\n",
        "bmi=new_w/new_h**2\n",
        "print('%.2f'%bmi)"
      ],
      "metadata": {
        "colab": {
          "base_uri": "https://localhost:8080/"
        },
        "id": "CQo8MNxjMj7N",
        "outputId": "b92f168c-be00-4c19-a7bf-2d90f1c2c139"
      },
      "execution_count": 13,
      "outputs": [
        {
          "output_type": "stream",
          "name": "stdout",
          "text": [
            "180 70\n",
            "21.60\n"
          ]
        }
      ]
    },
    {
      "cell_type": "code",
      "source": [
        "s=0\n",
        "a=int(input('number'))\n",
        "for i in range(10,a+1):\n",
        "  s=i+s\n",
        "print(s)"
      ],
      "metadata": {
        "colab": {
          "base_uri": "https://localhost:8080/"
        },
        "id": "IQyEC1A8AH6k",
        "outputId": "47e28777-1098-4479-9237-abd729f8fe94"
      },
      "execution_count": 5,
      "outputs": [
        {
          "output_type": "stream",
          "name": "stdout",
          "text": [
            "number20\n",
            "165\n"
          ]
        }
      ]
    }
  ]
}